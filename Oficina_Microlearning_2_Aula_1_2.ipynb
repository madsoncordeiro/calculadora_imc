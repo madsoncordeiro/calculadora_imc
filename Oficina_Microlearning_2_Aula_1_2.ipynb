{
  "nbformat": 4,
  "nbformat_minor": 0,
  "metadata": {
    "colab": {
      "provenance": []
    },
    "kernelspec": {
      "name": "python3",
      "display_name": "Python 3"
    },
    "language_info": {
      "name": "python"
    }
  },
  "cells": [
    {
      "cell_type": "code",
      "execution_count": 11,
      "metadata": {
        "colab": {
          "base_uri": "https://localhost:8080/"
        },
        "id": "9DxB3sMxRa2j",
        "outputId": "1f729e3a-97de-4cdb-97ca-5664a63d0587"
      },
      "outputs": [
        {
          "output_type": "stream",
          "name": "stdout",
          "text": [
            "------------------CALCULE O SEU IMC--------------------\n",
            "Qual o seu nome? Madson\n",
            "Qual o seu peso? 110.200\n",
            "Qual a sua altura? 1.67\n",
            "39.51378679766216\n"
          ]
        }
      ],
      "source": [
        "print(\"------------------CALCULE O SEU IMC--------------------\")\n",
        "nome_usuario = input(\"Qual o seu nome? \")\n",
        "peso_usuario = input(\"Qual o seu peso? \")\n",
        "peso_usuario_float = float(peso_usuario)\n",
        "altura_usuario = input(\"Qual a sua altura? \")\n",
        "altura_usuario_float = float(altura_usuario)\n",
        "imc = (peso_usuario_float/(altura_usuario_float*altura_usuario_float))\n",
        "imc_float = float(imc)\n",
        "print(imc_float)"
      ]
    },
    {
      "cell_type": "code",
      "source": [],
      "metadata": {
        "id": "GOp7L140Rq-y"
      },
      "execution_count": null,
      "outputs": []
    }
  ]
}