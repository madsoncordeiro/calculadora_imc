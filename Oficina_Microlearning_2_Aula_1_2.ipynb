{
  "nbformat": 4,
  "nbformat_minor": 0,
  "metadata": {
    "colab": {
      "provenance": []
    },
    "kernelspec": {
      "name": "python3",
      "display_name": "Python 3"
    },
    "language_info": {
      "name": "python"
    }
  },
  "cells": [
    {
      "cell_type": "code",
      "execution_count": 12,
      "metadata": {
        "colab": {
          "base_uri": "https://localhost:8080/"
        },
        "id": "9DxB3sMxRa2j",
        "outputId": "bc4707c4-8154-45bb-b84b-8563cb33e8b6"
      },
      "outputs": [
        {
          "output_type": "stream",
          "name": "stdout",
          "text": [
            "------------------CALCULE O SEU IMC--------------------\n",
            "Qual o seu nome? Jose\n",
            "Qual o seu peso? 76.300\n",
            "Qual a sua altura? 1.76\n",
            "24.631973140495866\n"
          ]
        }
      ],
      "source": [
        "print(\"------------------CALCULE O SEU IMC--------------------\")\n",
        "nome_usuario = input(\"Qual o seu nome? \")\n",
        "peso_usuario = input(\"Qual o seu peso? \")\n",
        "peso_usuario_float = float(peso_usuario)\n",
        "altura_usuario = input(\"Qual a sua altura? \")\n",
        "altura_usuario_float = float(altura_usuario)\n",
        "imc = (peso_usuario_float/(altura_usuario_float*altura_usuario_float))\n",
        "imc_float = float(imc)\n",
        "print(imc_float)"
      ]
    }
  ]
}